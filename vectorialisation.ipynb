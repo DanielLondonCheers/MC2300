{
  "nbformat": 4,
  "nbformat_minor": 0,
  "metadata": {
    "colab": {
      "provenance": [],
      "authorship_tag": "ABX9TyOWSvQLhE7yMEA04rnkuNh6",
      "include_colab_link": true
    },
    "kernelspec": {
      "name": "python3",
      "display_name": "Python 3"
    },
    "language_info": {
      "name": "python"
    }
  },
  "cells": [
    {
      "cell_type": "markdown",
      "metadata": {
        "id": "view-in-github",
        "colab_type": "text"
      },
      "source": [
        "<a href=\"https://colab.research.google.com/github/DanielLondonCheers/MC2300/blob/main/vectorialisation.ipynb\" target=\"_parent\"><img src=\"https://colab.research.google.com/assets/colab-badge.svg\" alt=\"Open In Colab\"/></a>"
      ]
    },
    {
      "cell_type": "markdown",
      "source": [
        "# **Vectorialisation des mots**"
      ],
      "metadata": {
        "id": "cAfOD2QQP4TS"
      }
    },
    {
      "cell_type": "markdown",
      "source": [
        "## Installation de la bibliothèque gensim\n",
        "\n",
        "La bibliothèque *gensim* est une bibliothèque permettant de télécharger et de manipuler des vectorisations de mots.  \n",
        "\n",
        "Exécutez le bloc ci-dessous pour télécharger la bibliothèque:"
      ],
      "metadata": {
        "id": "3FPq6E0Xgswr"
      }
    },
    {
      "cell_type": "code",
      "execution_count": null,
      "metadata": {
        "id": "9ZVVA-VKaHhD"
      },
      "outputs": [],
      "source": [
        "!pip install --upgrade gensim\n",
        "import gensim.downloader as api\n",
        "from gensim.models import KeyedVectors\n"
      ]
    },
    {
      "cell_type": "markdown",
      "source": [
        "Attention! Si vous travaillez sur google Colab, il est fort probable que vous obteniez à ce stade un message d'erreur. Il y a en effet une incompatibilité entre les versions de *numpy* et *scipy* pré-installées sur Colab et les versions nécessaires au bon fonctionnement de *gensim*.\n",
        "\n",
        "Pour résoudre simplement le problème, commentez la première ligne du bloc (celle qui install *gensim*) puis redémarrez la session en allant dans *Exécution -> Redémarrer la session*.\n",
        "\n",
        "---------------------------------------------------------------------------\n",
        "## Chargement d'un modèle de *word embedding*\n",
        "\n",
        "Nous allons travailler sur une base de données de 400 000 mots anglais. Chaque mot est représenté par un vecteur à 50 dimensions. Ce plongement lexical (word embedding) a été obtenu grâce à un entraînement sur deux milliards de tweets."
      ],
      "metadata": {
        "id": "yzBxEK8Hhsx-"
      }
    },
    {
      "cell_type": "code",
      "source": [
        "# Load pre-trained Word2Vec model (slimmed version)\n",
        "model = api.load(\"glove-wiki-gigaword-50\")"
      ],
      "metadata": {
        "id": "0yKIUazGbZgg"
      },
      "execution_count": null,
      "outputs": []
    },
    {
      "cell_type": "markdown",
      "source": [
        "### Questions\n",
        "\n",
        " 1) Vérifiez le nombre de mots contenus dans *model* et vérifiez que chaque mot est bien codé par un vecteur de dimension 50. Donnez la liste des vingt premiers mots contenus dans *model*."
      ],
      "metadata": {
        "id": "B9JfnbRrkLyo"
      }
    },
    {
      "cell_type": "markdown",
      "source": [
        "2) Quels sont les 5 plus proches voisins des mots 'navy', 'french', 'the', 'marmelade'?"
      ],
      "metadata": {
        "id": "Lr2ScB2Xw8rX"
      }
    },
    {
      "cell_type": "markdown",
      "source": [
        "3) En utilisant le code ci-dessous, devinez le mot mystère à partir de ses 5 plus proches voisins dans l'espace à 50 dimensions."
      ],
      "metadata": {
        "id": "jglieBV5k8en"
      }
    },
    {
      "cell_type": "code",
      "source": [
        "import random\n",
        "\n",
        "# Pick a random word and get similar words\n",
        "vocab = list(model.key_to_index.keys())\n",
        "mot_mystere = random.choice(vocab)\n",
        "mots_similaires = model.most_similar(mot_mystere, topn=6)\n",
        "\n",
        "# Show top 5 (excluding the word itself)\n",
        "print(\"Mots similaires au mot mystère:\")\n",
        "for mot, score in mots_similaires[1:6]:\n",
        "    print(f\"  - {mot}\", f\"(score: {score:.3f})\")\n",
        "\n",
        "# Ask for a guess\n",
        "print(\"\\nQuel est le mot mystère ?\")\n",
        "reponse = input()\n",
        "if reponse == mot_mystere:\n",
        "    print(\"Bravo, vous avez trouvé le mot mystère !\")\n",
        "else:\n",
        "    print(f\"Dommage, le mot mystère était {mot_mystere}.\")\n"
      ],
      "metadata": {
        "id": "zNKpwptuc9mj"
      },
      "execution_count": null,
      "outputs": []
    },
    {
      "cell_type": "markdown",
      "source": [
        "4) Considérons la fonction *gender_bias_test* ci-dessous:"
      ],
      "metadata": {
        "id": "LNKJTNVjsNYY"
      }
    },
    {
      "cell_type": "code",
      "source": [
        "def gender_bias_test(word):\n",
        "    gender_direction = model['man'] - model['woman']\n",
        "    projected = model[word] + gender_direction\n",
        "    return model.similar_by_vector(projected, topn=5)\n",
        "\n"
      ],
      "metadata": {
        "id": "1Wk8AyAadzzo"
      },
      "execution_count": null,
      "outputs": []
    },
    {
      "cell_type": "markdown",
      "source": [
        "Cette fonction signifie:\n",
        "\n",
        "« Prenez le mot **word** et déplacez-le dans la même direction vectorielle que celle qui mène de *woman* à *man*. Qu'est-ce que vous obtenez ? »\n",
        "\n",
        "Autrement dit, il s'agit de demander :\n",
        "\n",
        "« Quelle est la contrepartie masculine du mot **word** dans cet espace vectoriel ? »\n"
      ],
      "metadata": {
        "id": "aVo4whFFvPgH"
      }
    },
    {
      "cell_type": "code",
      "source": [
        "gender_bias_test('nurse')"
      ],
      "metadata": {
        "id": "QCulMm5YgM2y"
      },
      "execution_count": null,
      "outputs": []
    },
    {
      "cell_type": "markdown",
      "source": [
        "Commentez et essayer avec d'autres mots. Déterminez aussi la contrepartie féminine de mots comme \"soldier\"..."
      ],
      "metadata": {
        "id": "kuUQqtr7vh0i"
      }
    },
    {
      "cell_type": "markdown",
      "source": [
        "# A retenir!\n",
        "- Les vectorialisations reflètent les données sur lesquelles elles ont été formées, y compris les biais et les stéréotypes.\n",
        "\n",
        "- Ces biais peuvent influencer les applications en aval (moteurs de recherche, sélection de CV, etc.).\n",
        "\n",
        "- Ce n'est pas parce que la vectorialisation est basée sur un calcul statistique rigoureux qu'elle est équitable!"
      ],
      "metadata": {
        "id": "-ysDwwviwNwD"
      }
    }
  ]
}